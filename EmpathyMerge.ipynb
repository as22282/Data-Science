{
 "cells": [
  {
   "cell_type": "code",
   "execution_count": 2,
   "id": "ed2ecc16",
   "metadata": {},
   "outputs": [],
   "source": [
    "import csv\n",
    "\n",
    "class QuestionnaireConverter:\n",
    "    def convert(self, input_file_path, output_file_path):\n",
    "        with open(input_file_path, 'r') as input_file, open(output_file_path, 'w', newline='') as output_file:\n",
    "            reader = csv.reader(input_file)\n",
    "            writer = csv.writer(output_file)\n",
    "            for row in reader:\n",
    "                writer.writerow([row[0], row[47]])\n",
    "\n",
    "# Example usage\n",
    "converter = QuestionnaireConverter()\n",
    "converter.convert('Questionnaire_datasetIA.csv', 'outputIA.csv')\n",
    "converter.convert('Questionnaire_datasetIB.csv', 'outputIB.csv')\n",
    "\n"
   ]
  },
  {
   "cell_type": "code",
   "execution_count": 3,
   "id": "4bab02f9",
   "metadata": {},
   "outputs": [],
   "source": [
    "import pandas as pd\n",
    "\n",
    "# read the CSV file into a pandas dataframe\n",
    "df = pd.read_csv('outputIA.csv')\n",
    "\n",
    "# rename the columns\n",
    "df = df.rename(columns={'Participant nr': 'Participant name'})\n",
    "# Pad the numbers with leading zeros and convert to strings\n",
    "df['Participant name'] = df['Participant name'].astype(str).str.zfill(4)\n",
    "\n",
    "# Add the prefix \"participant\" to the column values\n",
    "df['Participant name'] = 'Participant' + df['Participant name']\n",
    "\n",
    "# save the renamed dataframe as a new CSV file\n",
    "df.to_csv('FinalIA.csv', index=False)\n"
   ]
  },
  {
   "cell_type": "code",
   "execution_count": 4,
   "id": "ec7fd355",
   "metadata": {},
   "outputs": [],
   "source": [
    "\n",
    "# read the CSV file into a pandas dataframe\n",
    "df = pd.read_csv('outputIB.csv')\n",
    "\n",
    "# rename the columns\n",
    "df = df.rename(columns={'Participant nr': 'Participant name'})\n",
    "\n",
    "# Pad the numbers with leading zeros and convert to strings\n",
    "df['Participant name'] = df['Participant name'].astype(str).str.zfill(4)\n",
    "\n",
    "# Add the prefix \"participant\" to the column values\n",
    "df['Participant name'] = 'Participant' + df['Participant name']\n",
    "\n",
    "\n",
    "# save the renamed dataframe as a new CSV file\n",
    "df.to_csv('FinalIB.csv', index=False)\n"
   ]
  },
  {
   "cell_type": "code",
   "execution_count": 7,
   "id": "d80cd822",
   "metadata": {},
   "outputs": [],
   "source": [
    "\n",
    "# read the first CSV file into a DataFrame\n",
    "df1 = pd.read_csv('FinalIa.csv')\n",
    "\n",
    "# read the second CSV file into a DataFrame\n",
    "df2 = pd.read_csv('Final.csv')\n",
    "\n",
    "# merge the two DataFrames based on the \"Participant\" column\n",
    "merged_df = pd.merge(df1, df2, on='Participant name')\n",
    "merged_df\n",
    "\n",
    "# write the merged DataFrame to a new CSV file\n",
    "merged_df.to_csv('EmpathyIA.csv', index=False)\n"
   ]
  },
  {
   "cell_type": "code",
   "execution_count": 9,
   "id": "ee12933f",
   "metadata": {},
   "outputs": [],
   "source": [
    "\n",
    "# read the first CSV file into a DataFrame\n",
    "df1 = pd.read_csv('FinalIB.csv')\n",
    "\n",
    "# read the second CSV file into a DataFrame\n",
    "df2 = pd.read_csv('Final.csv')\n",
    "\n",
    "# merge the two DataFrames based on the \"Participant\" column\n",
    "merged_df = pd.merge(df1, df2, on='Participant name')\n",
    "merged_df\n",
    "\n",
    "# write the merged DataFrame to a new CSV file\n",
    "merged_df.to_csv('EmpathyIB.csv', index=False)\n"
   ]
  },
  {
   "cell_type": "code",
   "execution_count": null,
   "id": "0806adb2",
   "metadata": {},
   "outputs": [],
   "source": []
  }
 ],
 "metadata": {
  "kernelspec": {
   "display_name": "Python 3 (ipykernel)",
   "language": "python",
   "name": "python3"
  },
  "language_info": {
   "codemirror_mode": {
    "name": "ipython",
    "version": 3
   },
   "file_extension": ".py",
   "mimetype": "text/x-python",
   "name": "python",
   "nbconvert_exporter": "python",
   "pygments_lexer": "ipython3",
   "version": "3.11.0"
  }
 },
 "nbformat": 4,
 "nbformat_minor": 5
}
